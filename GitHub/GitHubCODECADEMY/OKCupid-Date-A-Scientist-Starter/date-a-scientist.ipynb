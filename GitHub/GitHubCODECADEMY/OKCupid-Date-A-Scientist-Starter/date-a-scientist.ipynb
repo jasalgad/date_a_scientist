{
 "cells": [
  {
   "cell_type": "markdown",
   "metadata": {},
   "source": [
    "# Introduction\n",
    "\n",
    "In recent years, there has been a massive rise in the usage of dating apps to find love. Many of these apps use sophisticated data science techniques to recommend possible matches to users and to optimize the user experience. These apps give us access to a wealth of information that we’ve never had before about how different people experience romance.\n",
    "\n",
    "The goal of this project is to scope, prep, analyze, and create a machine learning model to solve a question.\n",
    "\n",
    "Data sources:\n",
    "\n",
    "profiles.csv was provided by Codecademy.com.\n",
    "\n",
    "# Scoping\n",
    "\n",
    "It's beneficial to create a project scope whenever a new project is being started. Below are four sections to help guide the project process and progress. The first section is the project goals, a section to define the high-level objectives and set the intentions for this project. The next section is the data, luckily in this project, data is already provided but still needs to be checked if project goals can be met with the available data. Thirdly, the analysis will have to be thought through, which include the methods and aligning the question(s) with the project goals. Lastly, evaluation will help build conclusions and findings from the analysis.\n",
    "\n",
    "# Project goals\n",
    "\n",
    "The primary objective of this project is to practice formulating questions and implementing machine learning techniques to answer those questions. The specific research question that will be addressed is whether it's possible to predict an OkCupid user's signs using other variables from their profile. This project is significant and for sure is very difficult to approach to an convicend score in order to have a predictive model, but I can learn a lot trying to reach the target.\n",
    "\n",
    "# Data\n",
    "\n",
    "The project will use one dataset provided by Codecademy called profiles.csv. The data comprises user profiles, with each row representing an OkCupid user and the columns consisting of their responses to multi-choice and short answer questions.\n",
    "\n",
    "# Analysis\n",
    "\n",
    "To understand the distribution, count, and relationship between variables, descriptive statistics and data visualization will be used. Since the project's primary goal is to make predictions about users' astrological signs, supervised learning machine learning models' classification algorithms will be used.\n",
    "\n",
    "# Evaluation\n",
    "\n",
    "At the conclusion of the project, the machine learning model will be evaluated using a validation dataset. A confusion matrix and metrics such as accuracy, precision, recall, and F1 scores can be used to verify the predictions' output.\n",
    "\n",
    "# Load and Check Data\n",
    "\n",
    "Before proceeding with supervised learning, it is important to verify that the data has a label or response variable. Without a label or response variable, the data cannot be used for supervised learning, and an alternative approach may need to be considered. If the data is missing a crucial piece for analysis, it may be necessary to go back to the previous step and select a different problem to solve that has complete and relevant data."
   ]
  },
  {
   "cell_type": "code",
   "execution_count": 3,
   "metadata": {},
   "outputs": [],
   "source": [
    "import pandas as pd\n",
    "import matplotlib.pyplot as plt\n",
    "import numpy as np\n",
    "import seaborn as sns\n",
    "from sklearn.model_selection import train_test_split\n",
    "from sklearn.metrics import accuracy_score, confusion_matrix\n",
    "from sklearn.ensemble import RandomForestClassifier\n",
    "from sklearn.preprocessing import LabelEncoder"
   ]
  },
  {
   "cell_type": "code",
   "execution_count": 4,
   "metadata": {},
   "outputs": [],
   "source": [
    "df = pd.read_csv('profiles.csv')\n"
   ]
  },
  {
   "cell_type": "markdown",
   "metadata": {},
   "source": [
    "# to know some..."
   ]
  },
  {
   "cell_type": "code",
   "execution_count": 12,
   "metadata": {
    "scrolled": true
   },
   "outputs": [
    {
     "data": {
      "text/html": [
       "<div>\n",
       "<style scoped>\n",
       "    .dataframe tbody tr th:only-of-type {\n",
       "        vertical-align: middle;\n",
       "    }\n",
       "\n",
       "    .dataframe tbody tr th {\n",
       "        vertical-align: top;\n",
       "    }\n",
       "\n",
       "    .dataframe thead th {\n",
       "        text-align: right;\n",
       "    }\n",
       "</style>\n",
       "<table border=\"1\" class=\"dataframe\">\n",
       "  <thead>\n",
       "    <tr style=\"text-align: right;\">\n",
       "      <th></th>\n",
       "      <th>age</th>\n",
       "      <th>body_type</th>\n",
       "      <th>diet</th>\n",
       "      <th>drinks</th>\n",
       "      <th>drugs</th>\n",
       "      <th>education</th>\n",
       "      <th>essay0</th>\n",
       "      <th>essay1</th>\n",
       "      <th>essay2</th>\n",
       "      <th>essay3</th>\n",
       "      <th>...</th>\n",
       "      <th>location</th>\n",
       "      <th>offspring</th>\n",
       "      <th>orientation</th>\n",
       "      <th>pets</th>\n",
       "      <th>religion</th>\n",
       "      <th>sex</th>\n",
       "      <th>sign</th>\n",
       "      <th>smokes</th>\n",
       "      <th>speaks</th>\n",
       "      <th>status</th>\n",
       "    </tr>\n",
       "  </thead>\n",
       "  <tbody>\n",
       "    <tr>\n",
       "      <th>0</th>\n",
       "      <td>22</td>\n",
       "      <td>a little extra</td>\n",
       "      <td>strictly anything</td>\n",
       "      <td>socially</td>\n",
       "      <td>never</td>\n",
       "      <td>working on college/university</td>\n",
       "      <td>about me:&lt;br /&gt;\\n&lt;br /&gt;\\ni would love to think...</td>\n",
       "      <td>currently working as an international agent fo...</td>\n",
       "      <td>making people laugh.&lt;br /&gt;\\nranting about a go...</td>\n",
       "      <td>the way i look. i am a six foot half asian, ha...</td>\n",
       "      <td>...</td>\n",
       "      <td>south san francisco, california</td>\n",
       "      <td>doesn&amp;rsquo;t have kids, but might want them</td>\n",
       "      <td>straight</td>\n",
       "      <td>likes dogs and likes cats</td>\n",
       "      <td>agnosticism and very serious about it</td>\n",
       "      <td>m</td>\n",
       "      <td>gemini</td>\n",
       "      <td>sometimes</td>\n",
       "      <td>english</td>\n",
       "      <td>single</td>\n",
       "    </tr>\n",
       "    <tr>\n",
       "      <th>1</th>\n",
       "      <td>35</td>\n",
       "      <td>average</td>\n",
       "      <td>mostly other</td>\n",
       "      <td>often</td>\n",
       "      <td>sometimes</td>\n",
       "      <td>working on space camp</td>\n",
       "      <td>i am a chef: this is what that means.&lt;br /&gt;\\n1...</td>\n",
       "      <td>dedicating everyday to being an unbelievable b...</td>\n",
       "      <td>being silly. having ridiculous amonts of fun w...</td>\n",
       "      <td>NaN</td>\n",
       "      <td>...</td>\n",
       "      <td>oakland, california</td>\n",
       "      <td>doesn&amp;rsquo;t have kids, but might want them</td>\n",
       "      <td>straight</td>\n",
       "      <td>likes dogs and likes cats</td>\n",
       "      <td>agnosticism but not too serious about it</td>\n",
       "      <td>m</td>\n",
       "      <td>cancer</td>\n",
       "      <td>no</td>\n",
       "      <td>english (fluently), spanish (poorly), french (...</td>\n",
       "      <td>single</td>\n",
       "    </tr>\n",
       "    <tr>\n",
       "      <th>2</th>\n",
       "      <td>38</td>\n",
       "      <td>thin</td>\n",
       "      <td>anything</td>\n",
       "      <td>socially</td>\n",
       "      <td>NaN</td>\n",
       "      <td>graduated from masters program</td>\n",
       "      <td>i'm not ashamed of much, but writing public te...</td>\n",
       "      <td>i make nerdy software for musicians, artists, ...</td>\n",
       "      <td>improvising in different contexts. alternating...</td>\n",
       "      <td>my large jaw and large glasses are the physica...</td>\n",
       "      <td>...</td>\n",
       "      <td>san francisco, california</td>\n",
       "      <td>NaN</td>\n",
       "      <td>straight</td>\n",
       "      <td>has cats</td>\n",
       "      <td>NaN</td>\n",
       "      <td>m</td>\n",
       "      <td>pisces but it doesn&amp;rsquo;t matter</td>\n",
       "      <td>no</td>\n",
       "      <td>english, french, c++</td>\n",
       "      <td>available</td>\n",
       "    </tr>\n",
       "    <tr>\n",
       "      <th>3</th>\n",
       "      <td>23</td>\n",
       "      <td>thin</td>\n",
       "      <td>vegetarian</td>\n",
       "      <td>socially</td>\n",
       "      <td>NaN</td>\n",
       "      <td>working on college/university</td>\n",
       "      <td>i work in a library and go to school. . .</td>\n",
       "      <td>reading things written by old dead people</td>\n",
       "      <td>playing synthesizers and organizing books acco...</td>\n",
       "      <td>socially awkward but i do my best</td>\n",
       "      <td>...</td>\n",
       "      <td>berkeley, california</td>\n",
       "      <td>doesn&amp;rsquo;t want kids</td>\n",
       "      <td>straight</td>\n",
       "      <td>likes cats</td>\n",
       "      <td>NaN</td>\n",
       "      <td>m</td>\n",
       "      <td>pisces</td>\n",
       "      <td>no</td>\n",
       "      <td>english, german (poorly)</td>\n",
       "      <td>single</td>\n",
       "    </tr>\n",
       "    <tr>\n",
       "      <th>4</th>\n",
       "      <td>29</td>\n",
       "      <td>athletic</td>\n",
       "      <td>NaN</td>\n",
       "      <td>socially</td>\n",
       "      <td>never</td>\n",
       "      <td>graduated from college/university</td>\n",
       "      <td>hey how's it going? currently vague on the pro...</td>\n",
       "      <td>work work work work + play</td>\n",
       "      <td>creating imagery to look at:&lt;br /&gt;\\nhttp://bag...</td>\n",
       "      <td>i smile a lot and my inquisitive nature</td>\n",
       "      <td>...</td>\n",
       "      <td>san francisco, california</td>\n",
       "      <td>NaN</td>\n",
       "      <td>straight</td>\n",
       "      <td>likes dogs and likes cats</td>\n",
       "      <td>NaN</td>\n",
       "      <td>m</td>\n",
       "      <td>aquarius</td>\n",
       "      <td>no</td>\n",
       "      <td>english</td>\n",
       "      <td>single</td>\n",
       "    </tr>\n",
       "  </tbody>\n",
       "</table>\n",
       "<p>5 rows × 31 columns</p>\n",
       "</div>"
      ],
      "text/plain": [
       "   age       body_type               diet    drinks      drugs  \\\n",
       "0   22  a little extra  strictly anything  socially      never   \n",
       "1   35         average       mostly other     often  sometimes   \n",
       "2   38            thin           anything  socially        NaN   \n",
       "3   23            thin         vegetarian  socially        NaN   \n",
       "4   29        athletic                NaN  socially      never   \n",
       "\n",
       "                           education  \\\n",
       "0      working on college/university   \n",
       "1              working on space camp   \n",
       "2     graduated from masters program   \n",
       "3      working on college/university   \n",
       "4  graduated from college/university   \n",
       "\n",
       "                                              essay0  \\\n",
       "0  about me:<br />\\n<br />\\ni would love to think...   \n",
       "1  i am a chef: this is what that means.<br />\\n1...   \n",
       "2  i'm not ashamed of much, but writing public te...   \n",
       "3          i work in a library and go to school. . .   \n",
       "4  hey how's it going? currently vague on the pro...   \n",
       "\n",
       "                                              essay1  \\\n",
       "0  currently working as an international agent fo...   \n",
       "1  dedicating everyday to being an unbelievable b...   \n",
       "2  i make nerdy software for musicians, artists, ...   \n",
       "3          reading things written by old dead people   \n",
       "4                         work work work work + play   \n",
       "\n",
       "                                              essay2  \\\n",
       "0  making people laugh.<br />\\nranting about a go...   \n",
       "1  being silly. having ridiculous amonts of fun w...   \n",
       "2  improvising in different contexts. alternating...   \n",
       "3  playing synthesizers and organizing books acco...   \n",
       "4  creating imagery to look at:<br />\\nhttp://bag...   \n",
       "\n",
       "                                              essay3  ...  \\\n",
       "0  the way i look. i am a six foot half asian, ha...  ...   \n",
       "1                                                NaN  ...   \n",
       "2  my large jaw and large glasses are the physica...  ...   \n",
       "3                  socially awkward but i do my best  ...   \n",
       "4            i smile a lot and my inquisitive nature  ...   \n",
       "\n",
       "                          location  \\\n",
       "0  south san francisco, california   \n",
       "1              oakland, california   \n",
       "2        san francisco, california   \n",
       "3             berkeley, california   \n",
       "4        san francisco, california   \n",
       "\n",
       "                                      offspring orientation  \\\n",
       "0  doesn&rsquo;t have kids, but might want them    straight   \n",
       "1  doesn&rsquo;t have kids, but might want them    straight   \n",
       "2                                           NaN    straight   \n",
       "3                       doesn&rsquo;t want kids    straight   \n",
       "4                                           NaN    straight   \n",
       "\n",
       "                        pets                                  religion sex  \\\n",
       "0  likes dogs and likes cats     agnosticism and very serious about it   m   \n",
       "1  likes dogs and likes cats  agnosticism but not too serious about it   m   \n",
       "2                   has cats                                       NaN   m   \n",
       "3                 likes cats                                       NaN   m   \n",
       "4  likes dogs and likes cats                                       NaN   m   \n",
       "\n",
       "                                 sign     smokes  \\\n",
       "0                              gemini  sometimes   \n",
       "1                              cancer         no   \n",
       "2  pisces but it doesn&rsquo;t matter         no   \n",
       "3                              pisces         no   \n",
       "4                            aquarius         no   \n",
       "\n",
       "                                              speaks     status  \n",
       "0                                            english     single  \n",
       "1  english (fluently), spanish (poorly), french (...     single  \n",
       "2                               english, french, c++  available  \n",
       "3                           english, german (poorly)     single  \n",
       "4                                            english     single  \n",
       "\n",
       "[5 rows x 31 columns]"
      ]
     },
     "execution_count": 12,
     "metadata": {},
     "output_type": "execute_result"
    }
   ],
   "source": [
    "df.head()"
   ]
  },
  {
   "cell_type": "code",
   "execution_count": 6,
   "metadata": {},
   "outputs": [
    {
     "data": {
      "text/plain": [
       "Index(['age', 'body_type', 'diet', 'drinks', 'drugs', 'education', 'essay0',\n",
       "       'essay1', 'essay2', 'essay3', 'essay4', 'essay5', 'essay6', 'essay7',\n",
       "       'essay8', 'essay9', 'ethnicity', 'height', 'income', 'job',\n",
       "       'last_online', 'location', 'offspring', 'orientation', 'pets',\n",
       "       'religion', 'sex', 'sign', 'smokes', 'speaks', 'status'],\n",
       "      dtype='object')"
      ]
     },
     "execution_count": 6,
     "metadata": {},
     "output_type": "execute_result"
    }
   ],
   "source": [
    "df.columns"
   ]
  },
  {
   "cell_type": "markdown",
   "metadata": {},
   "source": [
    "# I proceed to see which are the NaN data on the DataFrame\n",
    "\n",
    "I need to visualize the importance of them in oder to delete the rows or if ist's better to do something with it as converting in strings or tryng to make a prediction with them.."
   ]
  },
  {
   "cell_type": "code",
   "execution_count": 16,
   "metadata": {},
   "outputs": [
    {
     "name": "stdout",
     "output_type": "stream",
     "text": [
      " Porcentaje %: \n",
      " \n",
      "offspring      59.321723\n",
      "diet           40.694959\n",
      "religion       33.740366\n",
      "pets           33.231575\n",
      "essay8         32.070530\n",
      "drugs          23.487806\n",
      "essay6         22.972342\n",
      "essay9         21.023922\n",
      "essay7         20.770360\n",
      "essay3         19.143896\n",
      "sign           18.443266\n",
      "essay5         18.099623\n",
      "essay4         17.577486\n",
      "essay2         16.077803\n",
      "job            13.675641\n",
      "essay1         12.631368\n",
      "education      11.056618\n",
      "ethnicity       9.475194\n",
      "smokes          9.194942\n",
      "essay0          9.154906\n",
      "body_type       8.834618\n",
      "drinks          4.979482\n",
      "speaks          0.083408\n",
      "height          0.005005\n",
      "sex             0.000000\n",
      "age             0.000000\n",
      "orientation     0.000000\n",
      "location        0.000000\n",
      "last_online     0.000000\n",
      "income          0.000000\n",
      "status          0.000000\n",
      "dtype: float64\n"
     ]
    }
   ],
   "source": [
    "print(f\" Porcentaje %: \\n \\n{((df.isnull().sum())/len(df)).sort_values(ascending = False) * 100}\")"
   ]
  },
  {
   "cell_type": "markdown",
   "metadata": {},
   "source": [
    "# Now, let's  check it out the differents variables and future category data :"
   ]
  },
  {
   "cell_type": "code",
   "execution_count": 8,
   "metadata": {},
   "outputs": [
    {
     "data": {
      "text/plain": [
       "pets\n",
       "likes dogs and likes cats          14814\n",
       "likes dogs                          7224\n",
       "likes dogs and has cats             4313\n",
       "has dogs                            4134\n",
       "has dogs and likes cats             2333\n",
       "likes dogs and dislikes cats        2029\n",
       "has dogs and has cats               1474\n",
       "has cats                            1406\n",
       "likes cats                          1063\n",
       "has dogs and dislikes cats           552\n",
       "dislikes dogs and likes cats         240\n",
       "dislikes dogs and dislikes cats      196\n",
       "dislikes cats                        122\n",
       "dislikes dogs and has cats            81\n",
       "dislikes dogs                         44\n",
       "Name: count, dtype: int64"
      ]
     },
     "execution_count": 8,
     "metadata": {},
     "output_type": "execute_result"
    }
   ],
   "source": [
    "df.pets.value_counts()"
   ]
  },
  {
   "cell_type": "code",
   "execution_count": 9,
   "metadata": {},
   "outputs": [
    {
     "data": {
      "text/plain": [
       "education\n",
       "graduated from college/university    0.449360\n",
       "graduated from masters program       0.168067\n",
       "working on college/university        0.107131\n",
       "working on masters program           0.031565\n",
       "graduated from two-year college      0.028715\n",
       "graduated from high school           0.026783\n",
       "graduated from ph.d program          0.023857\n",
       "graduated from law school            0.021044\n",
       "working on two-year college          0.020143\n",
       "dropped out of college/university    0.018662\n",
       "working on ph.d program              0.018437\n",
       "college/university                   0.015023\n",
       "graduated from space camp            0.012322\n",
       "dropped out of space camp            0.009809\n",
       "graduated from med school            0.008365\n",
       "working on space camp                0.008346\n",
       "working on law school                0.005045\n",
       "two-year college                     0.004164\n",
       "working on med school                0.003976\n",
       "dropped out of two-year college      0.003582\n",
       "dropped out of masters program       0.002626\n",
       "masters program                      0.002551\n",
       "dropped out of ph.d program          0.002382\n",
       "dropped out of high school           0.001913\n",
       "high school                          0.001801\n",
       "working on high school               0.001632\n",
       "space camp                           0.001088\n",
       "ph.d program                         0.000488\n",
       "law school                           0.000356\n",
       "dropped out of law school            0.000338\n",
       "dropped out of med school            0.000225\n",
       "med school                           0.000206\n",
       "Name: proportion, dtype: float64"
      ]
     },
     "execution_count": 9,
     "metadata": {},
     "output_type": "execute_result"
    }
   ],
   "source": [
    "df.education.value_counts(normalize = True)"
   ]
  },
  {
   "cell_type": "code",
   "execution_count": 10,
   "metadata": {},
   "outputs": [
    {
     "name": "stdout",
     "output_type": "stream",
     "text": [
      "religion\n",
      "agnosticism                                   2724\n",
      "other                                         2691\n",
      "agnosticism but not too serious about it      2636\n",
      "agnosticism and laughing about it             2496\n",
      "catholicism but not too serious about it      2318\n",
      "atheism                                       2175\n",
      "other and laughing about it                   2119\n",
      "atheism and laughing about it                 2074\n",
      "christianity                                  1957\n",
      "christianity but not too serious about it     1952\n",
      "other but not too serious about it            1554\n",
      "judaism but not too serious about it          1517\n",
      "atheism but not too serious about it          1318\n",
      "catholicism                                   1064\n",
      "christianity and somewhat serious about it     927\n",
      "atheism and somewhat serious about it          848\n",
      "other and somewhat serious about it            846\n",
      "catholicism and laughing about it              726\n",
      "judaism and laughing about it                  681\n",
      "buddhism but not too serious about it          650\n",
      "agnosticism and somewhat serious about it      642\n",
      "judaism                                        612\n",
      "christianity and very serious about it         578\n",
      "atheism and very serious about it              570\n",
      "catholicism and somewhat serious about it      548\n",
      "other and very serious about it                533\n",
      "buddhism and laughing about it                 466\n",
      "buddhism                                       403\n",
      "christianity and laughing about it             373\n",
      "buddhism and somewhat serious about it         359\n",
      "agnosticism and very serious about it          314\n",
      "judaism and somewhat serious about it          266\n",
      "hinduism but not too serious about it          227\n",
      "hinduism                                       107\n",
      "catholicism and very serious about it          102\n",
      "buddhism and very serious about it              70\n",
      "hinduism and somewhat serious about it          58\n",
      "islam                                           48\n",
      "hinduism and laughing about it                  44\n",
      "islam but not too serious about it              40\n",
      "judaism and very serious about it               22\n",
      "islam and somewhat serious about it             22\n",
      "islam and laughing about it                     16\n",
      "hinduism and very serious about it              14\n",
      "islam and very serious about it                 13\n",
      "Name: count, dtype: int64\n"
     ]
    }
   ],
   "source": [
    "print(df.religion.value_counts())"
   ]
  },
  {
   "cell_type": "code",
   "execution_count": 11,
   "metadata": {},
   "outputs": [
    {
     "data": {
      "text/plain": [
       "speaks\n",
       "english                                                                21828\n",
       "english (fluently)                                                      6628\n",
       "english (fluently), spanish (poorly)                                    2059\n",
       "english (fluently), spanish (okay)                                      1917\n",
       "english (fluently), spanish (fluently)                                  1288\n",
       "                                                                       ...  \n",
       "english (fluently), urdu (poorly), japanese (poorly), french (okay)        1\n",
       "english, spanish, hindi, c++                                               1\n",
       "english (fluently), japanese (okay), thai (okay), chinese (poorly)         1\n",
       "english (fluently), french (okay), italian (okay), hebrew (okay)           1\n",
       "english (fluently), french, farsi                                          1\n",
       "Name: count, Length: 7647, dtype: int64"
      ]
     },
     "execution_count": 11,
     "metadata": {},
     "output_type": "execute_result"
    }
   ],
   "source": [
    "df.speaks.value_counts()"
   ]
  },
  {
   "cell_type": "markdown",
   "metadata": {},
   "source": [
    "# We are going to clean the data, create some new columns in order to create features to analize better"
   ]
  },
  {
   "cell_type": "code",
   "execution_count": 17,
   "metadata": {},
   "outputs": [
    {
     "name": "stdout",
     "output_type": "stream",
     "text": [
      "body_type      0\n",
      "diet           0\n",
      "orientation    0\n",
      "education      0\n",
      "religion       0\n",
      "sex            0\n",
      "job            0\n",
      "sign           0\n",
      "pets           0\n",
      "age            0\n",
      "speaks         0\n",
      "dtype: int64\n"
     ]
    },
    {
     "data": {
      "text/plain": [
       "(15810, 11)"
      ]
     },
     "execution_count": 17,
     "metadata": {},
     "output_type": "execute_result"
    }
   ],
   "source": [
    "data_selected = ['body_type', 'diet', 'orientation', 'education', 'religion', 'sex', 'job', 'sign', 'pets', 'age', 'speaks']\n",
    "df_clean = df[data_selected].dropna()\n",
    "print(df_clean.isna().sum())\n",
    "df_clean.shape"
   ]
  },
  {
   "cell_type": "code",
   "execution_count": 956,
   "metadata": {},
   "outputs": [],
   "source": [
    "df_clean['sign_clean'] = df_clean.sign.apply(lambda x:x.split()[0])\n",
    "df_clean['religion_clean'] = df_clean.religion.apply(lambda x:x.split()[0])"
   ]
  },
  {
   "cell_type": "code",
   "execution_count": 957,
   "metadata": {},
   "outputs": [
    {
     "data": {
      "text/html": [
       "<div>\n",
       "<style scoped>\n",
       "    .dataframe tbody tr th:only-of-type {\n",
       "        vertical-align: middle;\n",
       "    }\n",
       "\n",
       "    .dataframe tbody tr th {\n",
       "        vertical-align: top;\n",
       "    }\n",
       "\n",
       "    .dataframe thead th {\n",
       "        text-align: right;\n",
       "    }\n",
       "</style>\n",
       "<table border=\"1\" class=\"dataframe\">\n",
       "  <thead>\n",
       "    <tr style=\"text-align: right;\">\n",
       "      <th></th>\n",
       "      <th>body_type</th>\n",
       "      <th>diet</th>\n",
       "      <th>orientation</th>\n",
       "      <th>education</th>\n",
       "      <th>religion</th>\n",
       "      <th>sex</th>\n",
       "      <th>job</th>\n",
       "      <th>sign</th>\n",
       "      <th>pets</th>\n",
       "      <th>age</th>\n",
       "      <th>speaks</th>\n",
       "      <th>sign_clean</th>\n",
       "      <th>religion_clean</th>\n",
       "    </tr>\n",
       "  </thead>\n",
       "  <tbody>\n",
       "    <tr>\n",
       "      <th>0</th>\n",
       "      <td>a little extra</td>\n",
       "      <td>strictly anything</td>\n",
       "      <td>straight</td>\n",
       "      <td>working on college/university</td>\n",
       "      <td>agnosticism and very serious about it</td>\n",
       "      <td>m</td>\n",
       "      <td>transportation</td>\n",
       "      <td>gemini</td>\n",
       "      <td>likes dogs and likes cats</td>\n",
       "      <td>22</td>\n",
       "      <td>english</td>\n",
       "      <td>gemini</td>\n",
       "      <td>agnosticism</td>\n",
       "    </tr>\n",
       "    <tr>\n",
       "      <th>1</th>\n",
       "      <td>average</td>\n",
       "      <td>mostly other</td>\n",
       "      <td>straight</td>\n",
       "      <td>working on space camp</td>\n",
       "      <td>agnosticism but not too serious about it</td>\n",
       "      <td>m</td>\n",
       "      <td>hospitality / travel</td>\n",
       "      <td>cancer</td>\n",
       "      <td>likes dogs and likes cats</td>\n",
       "      <td>35</td>\n",
       "      <td>english (fluently), spanish (poorly), french (...</td>\n",
       "      <td>cancer</td>\n",
       "      <td>agnosticism</td>\n",
       "    </tr>\n",
       "    <tr>\n",
       "      <th>5</th>\n",
       "      <td>average</td>\n",
       "      <td>mostly anything</td>\n",
       "      <td>straight</td>\n",
       "      <td>graduated from college/university</td>\n",
       "      <td>atheism</td>\n",
       "      <td>m</td>\n",
       "      <td>computer / hardware / software</td>\n",
       "      <td>taurus</td>\n",
       "      <td>likes cats</td>\n",
       "      <td>29</td>\n",
       "      <td>english (fluently), chinese (okay)</td>\n",
       "      <td>taurus</td>\n",
       "      <td>atheism</td>\n",
       "    </tr>\n",
       "    <tr>\n",
       "      <th>7</th>\n",
       "      <td>average</td>\n",
       "      <td>mostly anything</td>\n",
       "      <td>straight</td>\n",
       "      <td>graduated from college/university</td>\n",
       "      <td>christianity</td>\n",
       "      <td>f</td>\n",
       "      <td>artistic / musical / writer</td>\n",
       "      <td>sagittarius</td>\n",
       "      <td>likes dogs and likes cats</td>\n",
       "      <td>31</td>\n",
       "      <td>english, spanish (okay)</td>\n",
       "      <td>sagittarius</td>\n",
       "      <td>christianity</td>\n",
       "    </tr>\n",
       "    <tr>\n",
       "      <th>9</th>\n",
       "      <td>athletic</td>\n",
       "      <td>mostly anything</td>\n",
       "      <td>straight</td>\n",
       "      <td>working on two-year college</td>\n",
       "      <td>atheism and laughing about it</td>\n",
       "      <td>m</td>\n",
       "      <td>student</td>\n",
       "      <td>cancer but it doesn&amp;rsquo;t matter</td>\n",
       "      <td>likes dogs and likes cats</td>\n",
       "      <td>37</td>\n",
       "      <td>english (fluently)</td>\n",
       "      <td>cancer</td>\n",
       "      <td>atheism</td>\n",
       "    </tr>\n",
       "  </tbody>\n",
       "</table>\n",
       "</div>"
      ],
      "text/plain": [
       "        body_type               diet orientation  \\\n",
       "0  a little extra  strictly anything    straight   \n",
       "1         average       mostly other    straight   \n",
       "5         average    mostly anything    straight   \n",
       "7         average    mostly anything    straight   \n",
       "9        athletic    mostly anything    straight   \n",
       "\n",
       "                           education  \\\n",
       "0      working on college/university   \n",
       "1              working on space camp   \n",
       "5  graduated from college/university   \n",
       "7  graduated from college/university   \n",
       "9        working on two-year college   \n",
       "\n",
       "                                   religion sex  \\\n",
       "0     agnosticism and very serious about it   m   \n",
       "1  agnosticism but not too serious about it   m   \n",
       "5                                   atheism   m   \n",
       "7                              christianity   f   \n",
       "9             atheism and laughing about it   m   \n",
       "\n",
       "                              job                                sign  \\\n",
       "0                  transportation                              gemini   \n",
       "1            hospitality / travel                              cancer   \n",
       "5  computer / hardware / software                              taurus   \n",
       "7     artistic / musical / writer                         sagittarius   \n",
       "9                         student  cancer but it doesn&rsquo;t matter   \n",
       "\n",
       "                        pets  age  \\\n",
       "0  likes dogs and likes cats   22   \n",
       "1  likes dogs and likes cats   35   \n",
       "5                 likes cats   29   \n",
       "7  likes dogs and likes cats   31   \n",
       "9  likes dogs and likes cats   37   \n",
       "\n",
       "                                              speaks   sign_clean  \\\n",
       "0                                            english       gemini   \n",
       "1  english (fluently), spanish (poorly), french (...       cancer   \n",
       "5                 english (fluently), chinese (okay)       taurus   \n",
       "7                            english, spanish (okay)  sagittarius   \n",
       "9                                 english (fluently)       cancer   \n",
       "\n",
       "  religion_clean  \n",
       "0    agnosticism  \n",
       "1    agnosticism  \n",
       "5        atheism  \n",
       "7   christianity  \n",
       "9        atheism  "
      ]
     },
     "execution_count": 957,
     "metadata": {},
     "output_type": "execute_result"
    }
   ],
   "source": [
    "df_clean.head()"
   ]
  },
  {
   "cell_type": "code",
   "execution_count": 958,
   "metadata": {},
   "outputs": [],
   "source": [
    "bins = [18, 25, 35, 45, 60, 120]\n",
    "df_clean['category_age'] = pd.cut(df_clean.age, bins)"
   ]
  },
  {
   "cell_type": "code",
   "execution_count": 959,
   "metadata": {},
   "outputs": [
    {
     "data": {
      "text/html": [
       "<div>\n",
       "<style scoped>\n",
       "    .dataframe tbody tr th:only-of-type {\n",
       "        vertical-align: middle;\n",
       "    }\n",
       "\n",
       "    .dataframe tbody tr th {\n",
       "        vertical-align: top;\n",
       "    }\n",
       "\n",
       "    .dataframe thead th {\n",
       "        text-align: right;\n",
       "    }\n",
       "</style>\n",
       "<table border=\"1\" class=\"dataframe\">\n",
       "  <thead>\n",
       "    <tr style=\"text-align: right;\">\n",
       "      <th></th>\n",
       "      <th>body_type</th>\n",
       "      <th>diet</th>\n",
       "      <th>orientation</th>\n",
       "      <th>education</th>\n",
       "      <th>religion</th>\n",
       "      <th>sex</th>\n",
       "      <th>job</th>\n",
       "      <th>sign</th>\n",
       "      <th>pets</th>\n",
       "      <th>age</th>\n",
       "      <th>speaks</th>\n",
       "      <th>sign_clean</th>\n",
       "      <th>religion_clean</th>\n",
       "      <th>category_age</th>\n",
       "      <th>speaks_count</th>\n",
       "    </tr>\n",
       "  </thead>\n",
       "  <tbody>\n",
       "    <tr>\n",
       "      <th>0</th>\n",
       "      <td>a little extra</td>\n",
       "      <td>strictly anything</td>\n",
       "      <td>straight</td>\n",
       "      <td>working on college/university</td>\n",
       "      <td>agnosticism and very serious about it</td>\n",
       "      <td>m</td>\n",
       "      <td>transportation</td>\n",
       "      <td>gemini</td>\n",
       "      <td>likes dogs and likes cats</td>\n",
       "      <td>22</td>\n",
       "      <td>english</td>\n",
       "      <td>gemini</td>\n",
       "      <td>agnosticism</td>\n",
       "      <td>(18, 25]</td>\n",
       "      <td>0</td>\n",
       "    </tr>\n",
       "    <tr>\n",
       "      <th>1</th>\n",
       "      <td>average</td>\n",
       "      <td>mostly other</td>\n",
       "      <td>straight</td>\n",
       "      <td>working on space camp</td>\n",
       "      <td>agnosticism but not too serious about it</td>\n",
       "      <td>m</td>\n",
       "      <td>hospitality / travel</td>\n",
       "      <td>cancer</td>\n",
       "      <td>likes dogs and likes cats</td>\n",
       "      <td>35</td>\n",
       "      <td>english (fluently), spanish (poorly), french (...</td>\n",
       "      <td>cancer</td>\n",
       "      <td>agnosticism</td>\n",
       "      <td>(25, 35]</td>\n",
       "      <td>2</td>\n",
       "    </tr>\n",
       "    <tr>\n",
       "      <th>5</th>\n",
       "      <td>average</td>\n",
       "      <td>mostly anything</td>\n",
       "      <td>straight</td>\n",
       "      <td>graduated from college/university</td>\n",
       "      <td>atheism</td>\n",
       "      <td>m</td>\n",
       "      <td>computer / hardware / software</td>\n",
       "      <td>taurus</td>\n",
       "      <td>likes cats</td>\n",
       "      <td>29</td>\n",
       "      <td>english (fluently), chinese (okay)</td>\n",
       "      <td>taurus</td>\n",
       "      <td>atheism</td>\n",
       "      <td>(25, 35]</td>\n",
       "      <td>1</td>\n",
       "    </tr>\n",
       "    <tr>\n",
       "      <th>7</th>\n",
       "      <td>average</td>\n",
       "      <td>mostly anything</td>\n",
       "      <td>straight</td>\n",
       "      <td>graduated from college/university</td>\n",
       "      <td>christianity</td>\n",
       "      <td>f</td>\n",
       "      <td>artistic / musical / writer</td>\n",
       "      <td>sagittarius</td>\n",
       "      <td>likes dogs and likes cats</td>\n",
       "      <td>31</td>\n",
       "      <td>english, spanish (okay)</td>\n",
       "      <td>sagittarius</td>\n",
       "      <td>christianity</td>\n",
       "      <td>(25, 35]</td>\n",
       "      <td>1</td>\n",
       "    </tr>\n",
       "    <tr>\n",
       "      <th>9</th>\n",
       "      <td>athletic</td>\n",
       "      <td>mostly anything</td>\n",
       "      <td>straight</td>\n",
       "      <td>working on two-year college</td>\n",
       "      <td>atheism and laughing about it</td>\n",
       "      <td>m</td>\n",
       "      <td>student</td>\n",
       "      <td>cancer but it doesn&amp;rsquo;t matter</td>\n",
       "      <td>likes dogs and likes cats</td>\n",
       "      <td>37</td>\n",
       "      <td>english (fluently)</td>\n",
       "      <td>cancer</td>\n",
       "      <td>atheism</td>\n",
       "      <td>(35, 45]</td>\n",
       "      <td>0</td>\n",
       "    </tr>\n",
       "  </tbody>\n",
       "</table>\n",
       "</div>"
      ],
      "text/plain": [
       "        body_type               diet orientation  \\\n",
       "0  a little extra  strictly anything    straight   \n",
       "1         average       mostly other    straight   \n",
       "5         average    mostly anything    straight   \n",
       "7         average    mostly anything    straight   \n",
       "9        athletic    mostly anything    straight   \n",
       "\n",
       "                           education  \\\n",
       "0      working on college/university   \n",
       "1              working on space camp   \n",
       "5  graduated from college/university   \n",
       "7  graduated from college/university   \n",
       "9        working on two-year college   \n",
       "\n",
       "                                   religion sex  \\\n",
       "0     agnosticism and very serious about it   m   \n",
       "1  agnosticism but not too serious about it   m   \n",
       "5                                   atheism   m   \n",
       "7                              christianity   f   \n",
       "9             atheism and laughing about it   m   \n",
       "\n",
       "                              job                                sign  \\\n",
       "0                  transportation                              gemini   \n",
       "1            hospitality / travel                              cancer   \n",
       "5  computer / hardware / software                              taurus   \n",
       "7     artistic / musical / writer                         sagittarius   \n",
       "9                         student  cancer but it doesn&rsquo;t matter   \n",
       "\n",
       "                        pets  age  \\\n",
       "0  likes dogs and likes cats   22   \n",
       "1  likes dogs and likes cats   35   \n",
       "5                 likes cats   29   \n",
       "7  likes dogs and likes cats   31   \n",
       "9  likes dogs and likes cats   37   \n",
       "\n",
       "                                              speaks   sign_clean  \\\n",
       "0                                            english       gemini   \n",
       "1  english (fluently), spanish (poorly), french (...       cancer   \n",
       "5                 english (fluently), chinese (okay)       taurus   \n",
       "7                            english, spanish (okay)  sagittarius   \n",
       "9                                 english (fluently)       cancer   \n",
       "\n",
       "  religion_clean category_age  speaks_count  \n",
       "0    agnosticism     (18, 25]             0  \n",
       "1    agnosticism     (25, 35]             2  \n",
       "5        atheism     (25, 35]             1  \n",
       "7   christianity     (25, 35]             1  \n",
       "9        atheism     (35, 45]             0  "
      ]
     },
     "execution_count": 959,
     "metadata": {},
     "output_type": "execute_result"
    }
   ],
   "source": [
    "df_clean['speaks_count'] = df_clean['speaks'].apply(lambda x: (x.count(',')))\n",
    "df_clean.head()"
   ]
  },
  {
   "cell_type": "code",
   "execution_count": 960,
   "metadata": {},
   "outputs": [],
   "source": [
    "df_clean = df_clean.drop(columns = 'religion')\n",
    "df_clean = df_clean.drop(columns = 'sign')\n"
   ]
  },
  {
   "cell_type": "code",
   "execution_count": 961,
   "metadata": {},
   "outputs": [
    {
     "data": {
      "text/plain": [
       "education_clean\n",
       "graduated             11193\n",
       "working                3491\n",
       "dropped                 841\n",
       "college/university      172\n",
       "two-year                 53\n",
       "space                    24\n",
       "high                     20\n",
       "masters                  10\n",
       "ph.d                      4\n",
       "law                       1\n",
       "med                       1\n",
       "Name: count, dtype: int64"
      ]
     },
     "execution_count": 961,
     "metadata": {},
     "output_type": "execute_result"
    }
   ],
   "source": [
    "df_clean['education_clean'] = df_clean.education.apply(lambda x:x.split()[0])\n",
    "df_clean.education_clean.value_counts()"
   ]
  },
  {
   "cell_type": "code",
   "execution_count": 962,
   "metadata": {},
   "outputs": [],
   "source": [
    "df_clean = df_clean.drop(columns = 'education')\n"
   ]
  },
  {
   "cell_type": "code",
   "execution_count": 963,
   "metadata": {},
   "outputs": [
    {
     "data": {
      "text/plain": [
       "pets\n",
       "likes dogs and likes cats          6319\n",
       "likes dogs                         2445\n",
       "likes dogs and has cats            1787\n",
       "has dogs                           1290\n",
       "has dogs and likes cats            1034\n",
       "likes dogs and dislikes cats        954\n",
       "has dogs and has cats               598\n",
       "has cats                            434\n",
       "likes cats                          393\n",
       "has dogs and dislikes cats          270\n",
       "dislikes dogs and likes cats        110\n",
       "dislikes dogs and dislikes cats      87\n",
       "dislikes cats                        42\n",
       "dislikes dogs and has cats           36\n",
       "dislikes dogs                        11\n",
       "Name: count, dtype: int64"
      ]
     },
     "execution_count": 963,
     "metadata": {},
     "output_type": "execute_result"
    }
   ],
   "source": [
    "df_clean.pets.value_counts()"
   ]
  },
  {
   "cell_type": "code",
   "execution_count": 964,
   "metadata": {},
   "outputs": [
    {
     "data": {
      "text/html": [
       "<div>\n",
       "<style scoped>\n",
       "    .dataframe tbody tr th:only-of-type {\n",
       "        vertical-align: middle;\n",
       "    }\n",
       "\n",
       "    .dataframe tbody tr th {\n",
       "        vertical-align: top;\n",
       "    }\n",
       "\n",
       "    .dataframe thead th {\n",
       "        text-align: right;\n",
       "    }\n",
       "</style>\n",
       "<table border=\"1\" class=\"dataframe\">\n",
       "  <thead>\n",
       "    <tr style=\"text-align: right;\">\n",
       "      <th></th>\n",
       "      <th>body_type</th>\n",
       "      <th>diet</th>\n",
       "      <th>orientation</th>\n",
       "      <th>sex</th>\n",
       "      <th>job</th>\n",
       "      <th>pets</th>\n",
       "      <th>age</th>\n",
       "      <th>speaks</th>\n",
       "      <th>sign_clean</th>\n",
       "      <th>religion_clean</th>\n",
       "      <th>category_age</th>\n",
       "      <th>speaks_count</th>\n",
       "      <th>education_clean</th>\n",
       "      <th>like_dogs_and_cats</th>\n",
       "    </tr>\n",
       "  </thead>\n",
       "  <tbody>\n",
       "    <tr>\n",
       "      <th>0</th>\n",
       "      <td>a little extra</td>\n",
       "      <td>strictly anything</td>\n",
       "      <td>straight</td>\n",
       "      <td>m</td>\n",
       "      <td>transportation</td>\n",
       "      <td>likes dogs and likes cats</td>\n",
       "      <td>22</td>\n",
       "      <td>english</td>\n",
       "      <td>gemini</td>\n",
       "      <td>agnosticism</td>\n",
       "      <td>(18, 25]</td>\n",
       "      <td>0</td>\n",
       "      <td>working</td>\n",
       "      <td>1</td>\n",
       "    </tr>\n",
       "    <tr>\n",
       "      <th>1</th>\n",
       "      <td>average</td>\n",
       "      <td>mostly other</td>\n",
       "      <td>straight</td>\n",
       "      <td>m</td>\n",
       "      <td>hospitality / travel</td>\n",
       "      <td>likes dogs and likes cats</td>\n",
       "      <td>35</td>\n",
       "      <td>english (fluently), spanish (poorly), french (...</td>\n",
       "      <td>cancer</td>\n",
       "      <td>agnosticism</td>\n",
       "      <td>(25, 35]</td>\n",
       "      <td>2</td>\n",
       "      <td>working</td>\n",
       "      <td>1</td>\n",
       "    </tr>\n",
       "    <tr>\n",
       "      <th>5</th>\n",
       "      <td>average</td>\n",
       "      <td>mostly anything</td>\n",
       "      <td>straight</td>\n",
       "      <td>m</td>\n",
       "      <td>computer / hardware / software</td>\n",
       "      <td>likes cats</td>\n",
       "      <td>29</td>\n",
       "      <td>english (fluently), chinese (okay)</td>\n",
       "      <td>taurus</td>\n",
       "      <td>atheism</td>\n",
       "      <td>(25, 35]</td>\n",
       "      <td>1</td>\n",
       "      <td>graduated</td>\n",
       "      <td>0</td>\n",
       "    </tr>\n",
       "    <tr>\n",
       "      <th>7</th>\n",
       "      <td>average</td>\n",
       "      <td>mostly anything</td>\n",
       "      <td>straight</td>\n",
       "      <td>f</td>\n",
       "      <td>artistic / musical / writer</td>\n",
       "      <td>likes dogs and likes cats</td>\n",
       "      <td>31</td>\n",
       "      <td>english, spanish (okay)</td>\n",
       "      <td>sagittarius</td>\n",
       "      <td>christianity</td>\n",
       "      <td>(25, 35]</td>\n",
       "      <td>1</td>\n",
       "      <td>graduated</td>\n",
       "      <td>1</td>\n",
       "    </tr>\n",
       "    <tr>\n",
       "      <th>9</th>\n",
       "      <td>athletic</td>\n",
       "      <td>mostly anything</td>\n",
       "      <td>straight</td>\n",
       "      <td>m</td>\n",
       "      <td>student</td>\n",
       "      <td>likes dogs and likes cats</td>\n",
       "      <td>37</td>\n",
       "      <td>english (fluently)</td>\n",
       "      <td>cancer</td>\n",
       "      <td>atheism</td>\n",
       "      <td>(35, 45]</td>\n",
       "      <td>0</td>\n",
       "      <td>working</td>\n",
       "      <td>1</td>\n",
       "    </tr>\n",
       "  </tbody>\n",
       "</table>\n",
       "</div>"
      ],
      "text/plain": [
       "        body_type               diet orientation sex  \\\n",
       "0  a little extra  strictly anything    straight   m   \n",
       "1         average       mostly other    straight   m   \n",
       "5         average    mostly anything    straight   m   \n",
       "7         average    mostly anything    straight   f   \n",
       "9        athletic    mostly anything    straight   m   \n",
       "\n",
       "                              job                       pets  age  \\\n",
       "0                  transportation  likes dogs and likes cats   22   \n",
       "1            hospitality / travel  likes dogs and likes cats   35   \n",
       "5  computer / hardware / software                 likes cats   29   \n",
       "7     artistic / musical / writer  likes dogs and likes cats   31   \n",
       "9                         student  likes dogs and likes cats   37   \n",
       "\n",
       "                                              speaks   sign_clean  \\\n",
       "0                                            english       gemini   \n",
       "1  english (fluently), spanish (poorly), french (...       cancer   \n",
       "5                 english (fluently), chinese (okay)       taurus   \n",
       "7                            english, spanish (okay)  sagittarius   \n",
       "9                                 english (fluently)       cancer   \n",
       "\n",
       "  religion_clean category_age  speaks_count education_clean  \\\n",
       "0    agnosticism     (18, 25]             0         working   \n",
       "1    agnosticism     (25, 35]             2         working   \n",
       "5        atheism     (25, 35]             1       graduated   \n",
       "7   christianity     (25, 35]             1       graduated   \n",
       "9        atheism     (35, 45]             0         working   \n",
       "\n",
       "   like_dogs_and_cats  \n",
       "0                   1  \n",
       "1                   1  \n",
       "5                   0  \n",
       "7                   1  \n",
       "9                   1  "
      ]
     },
     "execution_count": 964,
     "metadata": {},
     "output_type": "execute_result"
    }
   ],
   "source": [
    "like_dogs_and_cats = ['likes dogs and likes cats', 'likes dogs and has cats','has dogs and likes cats']\n",
    "df_clean['like_dogs_and_cats'] = df_clean.pets.apply(lambda x: 1 if x in like_dogs_and_cats else 0)\n",
    "df_clean.head()"
   ]
  },
  {
   "cell_type": "code",
   "execution_count": 965,
   "metadata": {},
   "outputs": [
    {
     "data": {
      "text/plain": [
       "(15810, 14)"
      ]
     },
     "execution_count": 965,
     "metadata": {},
     "output_type": "execute_result"
    }
   ],
   "source": [
    "df_clean.shape"
   ]
  },
  {
   "cell_type": "markdown",
   "metadata": {},
   "source": [
    "# Preparing the model"
   ]
  },
  {
   "cell_type": "code",
   "execution_count": 966,
   "metadata": {},
   "outputs": [
    {
     "data": {
      "text/html": [
       "<div>\n",
       "<style scoped>\n",
       "    .dataframe tbody tr th:only-of-type {\n",
       "        vertical-align: middle;\n",
       "    }\n",
       "\n",
       "    .dataframe tbody tr th {\n",
       "        vertical-align: top;\n",
       "    }\n",
       "\n",
       "    .dataframe thead th {\n",
       "        text-align: right;\n",
       "    }\n",
       "</style>\n",
       "<table border=\"1\" class=\"dataframe\">\n",
       "  <thead>\n",
       "    <tr style=\"text-align: right;\">\n",
       "      <th></th>\n",
       "      <th>age</th>\n",
       "      <th>speaks_count</th>\n",
       "      <th>like_dogs_and_cats</th>\n",
       "      <th>body_type_a little extra</th>\n",
       "      <th>body_type_athletic</th>\n",
       "      <th>body_type_average</th>\n",
       "      <th>body_type_curvy</th>\n",
       "      <th>body_type_fit</th>\n",
       "      <th>body_type_full figured</th>\n",
       "      <th>body_type_jacked</th>\n",
       "      <th>...</th>\n",
       "      <th>education_clean_dropped</th>\n",
       "      <th>education_clean_graduated</th>\n",
       "      <th>education_clean_high</th>\n",
       "      <th>education_clean_law</th>\n",
       "      <th>education_clean_masters</th>\n",
       "      <th>education_clean_med</th>\n",
       "      <th>education_clean_ph.d</th>\n",
       "      <th>education_clean_space</th>\n",
       "      <th>education_clean_two-year</th>\n",
       "      <th>education_clean_working</th>\n",
       "    </tr>\n",
       "  </thead>\n",
       "  <tbody>\n",
       "    <tr>\n",
       "      <th>0</th>\n",
       "      <td>22</td>\n",
       "      <td>0</td>\n",
       "      <td>1</td>\n",
       "      <td>True</td>\n",
       "      <td>False</td>\n",
       "      <td>False</td>\n",
       "      <td>False</td>\n",
       "      <td>False</td>\n",
       "      <td>False</td>\n",
       "      <td>False</td>\n",
       "      <td>...</td>\n",
       "      <td>False</td>\n",
       "      <td>False</td>\n",
       "      <td>False</td>\n",
       "      <td>False</td>\n",
       "      <td>False</td>\n",
       "      <td>False</td>\n",
       "      <td>False</td>\n",
       "      <td>False</td>\n",
       "      <td>False</td>\n",
       "      <td>True</td>\n",
       "    </tr>\n",
       "    <tr>\n",
       "      <th>1</th>\n",
       "      <td>35</td>\n",
       "      <td>2</td>\n",
       "      <td>1</td>\n",
       "      <td>False</td>\n",
       "      <td>False</td>\n",
       "      <td>True</td>\n",
       "      <td>False</td>\n",
       "      <td>False</td>\n",
       "      <td>False</td>\n",
       "      <td>False</td>\n",
       "      <td>...</td>\n",
       "      <td>False</td>\n",
       "      <td>False</td>\n",
       "      <td>False</td>\n",
       "      <td>False</td>\n",
       "      <td>False</td>\n",
       "      <td>False</td>\n",
       "      <td>False</td>\n",
       "      <td>False</td>\n",
       "      <td>False</td>\n",
       "      <td>True</td>\n",
       "    </tr>\n",
       "    <tr>\n",
       "      <th>5</th>\n",
       "      <td>29</td>\n",
       "      <td>1</td>\n",
       "      <td>0</td>\n",
       "      <td>False</td>\n",
       "      <td>False</td>\n",
       "      <td>True</td>\n",
       "      <td>False</td>\n",
       "      <td>False</td>\n",
       "      <td>False</td>\n",
       "      <td>False</td>\n",
       "      <td>...</td>\n",
       "      <td>False</td>\n",
       "      <td>True</td>\n",
       "      <td>False</td>\n",
       "      <td>False</td>\n",
       "      <td>False</td>\n",
       "      <td>False</td>\n",
       "      <td>False</td>\n",
       "      <td>False</td>\n",
       "      <td>False</td>\n",
       "      <td>False</td>\n",
       "    </tr>\n",
       "    <tr>\n",
       "      <th>7</th>\n",
       "      <td>31</td>\n",
       "      <td>1</td>\n",
       "      <td>1</td>\n",
       "      <td>False</td>\n",
       "      <td>False</td>\n",
       "      <td>True</td>\n",
       "      <td>False</td>\n",
       "      <td>False</td>\n",
       "      <td>False</td>\n",
       "      <td>False</td>\n",
       "      <td>...</td>\n",
       "      <td>False</td>\n",
       "      <td>True</td>\n",
       "      <td>False</td>\n",
       "      <td>False</td>\n",
       "      <td>False</td>\n",
       "      <td>False</td>\n",
       "      <td>False</td>\n",
       "      <td>False</td>\n",
       "      <td>False</td>\n",
       "      <td>False</td>\n",
       "    </tr>\n",
       "    <tr>\n",
       "      <th>9</th>\n",
       "      <td>37</td>\n",
       "      <td>0</td>\n",
       "      <td>1</td>\n",
       "      <td>False</td>\n",
       "      <td>True</td>\n",
       "      <td>False</td>\n",
       "      <td>False</td>\n",
       "      <td>False</td>\n",
       "      <td>False</td>\n",
       "      <td>False</td>\n",
       "      <td>...</td>\n",
       "      <td>False</td>\n",
       "      <td>False</td>\n",
       "      <td>False</td>\n",
       "      <td>False</td>\n",
       "      <td>False</td>\n",
       "      <td>False</td>\n",
       "      <td>False</td>\n",
       "      <td>False</td>\n",
       "      <td>False</td>\n",
       "      <td>True</td>\n",
       "    </tr>\n",
       "  </tbody>\n",
       "</table>\n",
       "<p>5 rows × 3184 columns</p>\n",
       "</div>"
      ],
      "text/plain": [
       "   age  speaks_count  like_dogs_and_cats  body_type_a little extra  \\\n",
       "0   22             0                   1                      True   \n",
       "1   35             2                   1                     False   \n",
       "5   29             1                   0                     False   \n",
       "7   31             1                   1                     False   \n",
       "9   37             0                   1                     False   \n",
       "\n",
       "   body_type_athletic  body_type_average  body_type_curvy  body_type_fit  \\\n",
       "0               False              False            False          False   \n",
       "1               False               True            False          False   \n",
       "5               False               True            False          False   \n",
       "7               False               True            False          False   \n",
       "9                True              False            False          False   \n",
       "\n",
       "   body_type_full figured  body_type_jacked  ...  education_clean_dropped  \\\n",
       "0                   False             False  ...                    False   \n",
       "1                   False             False  ...                    False   \n",
       "5                   False             False  ...                    False   \n",
       "7                   False             False  ...                    False   \n",
       "9                   False             False  ...                    False   \n",
       "\n",
       "   education_clean_graduated  education_clean_high  education_clean_law  \\\n",
       "0                      False                 False                False   \n",
       "1                      False                 False                False   \n",
       "5                       True                 False                False   \n",
       "7                       True                 False                False   \n",
       "9                      False                 False                False   \n",
       "\n",
       "   education_clean_masters  education_clean_med  education_clean_ph.d  \\\n",
       "0                    False                False                 False   \n",
       "1                    False                False                 False   \n",
       "5                    False                False                 False   \n",
       "7                    False                False                 False   \n",
       "9                    False                False                 False   \n",
       "\n",
       "   education_clean_space  education_clean_two-year  education_clean_working  \n",
       "0                  False                     False                     True  \n",
       "1                  False                     False                     True  \n",
       "5                  False                     False                    False  \n",
       "7                  False                     False                    False  \n",
       "9                  False                     False                     True  \n",
       "\n",
       "[5 rows x 3184 columns]"
      ]
     },
     "execution_count": 966,
     "metadata": {},
     "output_type": "execute_result"
    }
   ],
   "source": [
    "\n",
    "X = df_clean.drop(columns = ['sign_clean'])\n",
    "X_encoded = pd.get_dummies(X)\n",
    "X_encoded.head()\n"
   ]
  },
  {
   "cell_type": "code",
   "execution_count": 967,
   "metadata": {},
   "outputs": [],
   "source": [
    "y = df_clean.sign_clean"
   ]
  },
  {
   "cell_type": "code",
   "execution_count": 968,
   "metadata": {},
   "outputs": [],
   "source": [
    "X_array =X_encoded.values\n",
    "label_encoder = LabelEncoder()\n",
    "y_encoded = label_encoder.fit_transform(y)\n",
    "\n",
    "X_train, X_test, y_train, y_test = train_test_split(X_array, y_encoded, test_size = 0.25, random_state = 12)\n"
   ]
  },
  {
   "cell_type": "code",
   "execution_count": 969,
   "metadata": {},
   "outputs": [],
   "source": [
    "knn_model = KNeighborsClassifier(n_neighbors = 7)\n",
    "knn_model.fit(X_train, y_train)\n",
    "y_pred = knn_model.predict(X_test)"
   ]
  },
  {
   "cell_type": "code",
   "execution_count": 970,
   "metadata": {},
   "outputs": [
    {
     "name": "stdout",
     "output_type": "stream",
     "text": [
      "KNN model score:  0.0796863141917531\n"
     ]
    }
   ],
   "source": [
    "print(\"KNN model score: \", knn_model.score(X_test,y_test))"
   ]
  },
  {
   "cell_type": "markdown",
   "metadata": {},
   "source": [
    "# MODEL KNN"
   ]
  },
  {
   "cell_type": "code",
   "execution_count": 971,
   "metadata": {},
   "outputs": [],
   "source": [
    "from sklearn.preprocessing import StandardScaler\n",
    "\n",
    "# Escalar las características\n",
    "scaler = StandardScaler()\n",
    "X_train_scaled = scaler.fit_transform(X_train)\n",
    "X_test_scaled = scaler.transform(X_test)\n"
   ]
  },
  {
   "cell_type": "code",
   "execution_count": 973,
   "metadata": {},
   "outputs": [
    {
     "name": "stdout",
     "output_type": "stream",
     "text": [
      "Fitting 5 folds for each of 6 candidates, totalling 30 fits\n",
      "Best parameters found:  {'metric': 'euclidean', 'n_neighbors': 9, 'weights': 'uniform'}\n",
      "Accuracy with optimized parameters:  0.0789273969137364\n"
     ]
    }
   ],
   "source": [
    "\n",
    "from sklearn.model_selection import GridSearchCV\n",
    "\n",
    "# Definir el modelo KNN\n",
    "knn = KNeighborsClassifier()\n",
    "\n",
    "# Definir la rejilla de hiperparámetros\n",
    "param_grid = {\n",
    "    'n_neighbors': [3, 7, 9],\n",
    "    'weights': ['uniform', 'distance'],\n",
    "    'metric': ['euclidean']\n",
    "}\n",
    "\n",
    "# Configurar el GridSearchCV\n",
    "grid_search = GridSearchCV(estimator=knn, param_grid=param_grid, cv=5, n_jobs=-1, verbose=2, scoring='accuracy')\n",
    "\n",
    "# Ajustar el GridSearchCV al conjunto de entrenamiento\n",
    "grid_search.fit(X_train_scaled, y_train)\n",
    "\n",
    "# Obtener los mejores hiperparámetros\n",
    "print(\"Best parameters found: \", grid_search.best_params_)\n",
    "\n",
    "# Evaluar el mejor modelo en el conjunto de prueba\n",
    "best_knn = grid_search.best_estimator_\n",
    "y_pred = best_knn.predict(X_test_scaled)\n",
    "print(\"Accuracy with optimized parameters: \", accuracy_score(y_test, y_pred))\n"
   ]
  },
  {
   "cell_type": "code",
   "execution_count": 974,
   "metadata": {},
   "outputs": [
    {
     "name": "stdout",
     "output_type": "stream",
     "text": [
      "Accuracy: 0.0789273969137364\n",
      "[[48 42 39 21 20 35 26 21 19 18 15 18]\n",
      " [52 35 40 21 30 29 21 19 13 14  6 16]\n",
      " [51 59 39 12 35 42 20 21 25 19 12 18]\n",
      " [43 35 36 14 31 34 17 20 21 13 12 12]\n",
      " [61 61 41 27 35 39 25 26 23 15 15 19]\n",
      " [67 34 46 25 35 35 36 23 16 11  7 14]\n",
      " [52 46 43 20 28 36 26 20 19 16  7 16]\n",
      " [35 42 36 21 34 28 27 17 14 20 13 17]\n",
      " [21 47 41 27 36 35 24 23 20 25 12 25]\n",
      " [53 35 39 23 27 29 28 17 20 20 20 16]\n",
      " [48 43 32 27 31 39 22 19 14 20  5 16]\n",
      " [45 56 41 18 27 43 25 25 21 13 14 18]]\n"
     ]
    }
   ],
   "source": [
    "\n",
    "# Evaluar el rendimiento del modelo\n",
    "print(\"Accuracy:\", accuracy_score(y_test, y_pred))\n",
    "\n",
    "# Crear la matriz de confusión\n",
    "cm = confusion_matrix(y_test, y_pred)\n",
    "print(cm)\n"
   ]
  },
  {
   "cell_type": "code",
   "execution_count": 975,
   "metadata": {},
   "outputs": [
    {
     "data": {
      "image/png": "[encoded data removed]",
      "text/plain": [
       "<Figure size 600x500 with 1 Axes>"
      ]
     },
     "metadata": {},
     "output_type": "display_data"
    }
   ],
   "source": [
    "# Configurar la figura del mapa de calor\n",
    "plt.figure(figsize=(6, 5))\n",
    "\n",
    "# Crear el mapa de calor\n",
    "sns.heatmap(cm, annot=True, fmt='d', cmap='Blues', cbar=False, xticklabels=le.classes_, yticklabels=le.classes_)\n",
    "\n",
    "# Añadir etiquetas y título\n",
    "plt.xlabel('Predicted Labels')\n",
    "plt.ylabel('True Labels')\n",
    "plt.title('Confusion Matrix')\n",
    "\n",
    "# Mostrar el mapa de calor\n",
    "plt.show()\n"
   ]
  },
  {
   "cell_type": "markdown",
   "metadata": {},
   "source": [
    "# DecisionTreeClassifier"
   ]
  },
  {
   "cell_type": "code",
   "execution_count": 976,
   "metadata": {},
   "outputs": [
    {
     "data": {
      "text/html": [
       "<style>#sk-container-id-23 {color: black;}#sk-container-id-23 pre{padding: 0;}#sk-container-id-23 div.sk-toggleable {background-color: white;}#sk-container-id-23 label.sk-toggleable__label {cursor: pointer;display: block;width: 100%;margin-bottom: 0;padding: 0.3em;box-sizing: border-box;text-align: center;}#sk-container-id-23 label.sk-toggleable__label-arrow:before {content: \"▸\";float: left;margin-right: 0.25em;color: #696969;}#sk-container-id-23 label.sk-toggleable__label-arrow:hover:before {color: black;}#sk-container-id-23 div.sk-estimator:hover label.sk-toggleable__label-arrow:before {color: black;}#sk-container-id-23 div.sk-toggleable__content {max-height: 0;max-width: 0;overflow: hidden;text-align: left;background-color: #f0f8ff;}#sk-container-id-23 div.sk-toggleable__content pre {margin: 0.2em;color: black;border-radius: 0.25em;background-color: #f0f8ff;}#sk-container-id-23 input.sk-toggleable__control:checked~div.sk-toggleable__content {max-height: 200px;max-width: 100%;overflow: auto;}#sk-container-id-23 input.sk-toggleable__control:checked~label.sk-toggleable__label-arrow:before {content: \"▾\";}#sk-container-id-23 div.sk-estimator input.sk-toggleable__control:checked~label.sk-toggleable__label {background-color: #d4ebff;}#sk-container-id-23 div.sk-label input.sk-toggleable__control:checked~label.sk-toggleable__label {background-color: #d4ebff;}#sk-container-id-23 input.sk-hidden--visually {border: 0;clip: rect(1px 1px 1px 1px);clip: rect(1px, 1px, 1px, 1px);height: 1px;margin: -1px;overflow: hidden;padding: 0;position: absolute;width: 1px;}#sk-container-id-23 div.sk-estimator {font-family: monospace;background-color: #f0f8ff;border: 1px dotted black;border-radius: 0.25em;box-sizing: border-box;margin-bottom: 0.5em;}#sk-container-id-23 div.sk-estimator:hover {background-color: #d4ebff;}#sk-container-id-23 div.sk-parallel-item::after {content: \"\";width: 100%;border-bottom: 1px solid gray;flex-grow: 1;}#sk-container-id-23 div.sk-label:hover label.sk-toggleable__label {background-color: #d4ebff;}#sk-container-id-23 div.sk-serial::before {content: \"\";position: absolute;border-left: 1px solid gray;box-sizing: border-box;top: 0;bottom: 0;left: 50%;z-index: 0;}#sk-container-id-23 div.sk-serial {display: flex;flex-direction: column;align-items: center;background-color: white;padding-right: 0.2em;padding-left: 0.2em;position: relative;}#sk-container-id-23 div.sk-item {position: relative;z-index: 1;}#sk-container-id-23 div.sk-parallel {display: flex;align-items: stretch;justify-content: center;background-color: white;position: relative;}#sk-container-id-23 div.sk-item::before, #sk-container-id-23 div.sk-parallel-item::before {content: \"\";position: absolute;border-left: 1px solid gray;box-sizing: border-box;top: 0;bottom: 0;left: 50%;z-index: -1;}#sk-container-id-23 div.sk-parallel-item {display: flex;flex-direction: column;z-index: 1;position: relative;background-color: white;}#sk-container-id-23 div.sk-parallel-item:first-child::after {align-self: flex-end;width: 50%;}#sk-container-id-23 div.sk-parallel-item:last-child::after {align-self: flex-start;width: 50%;}#sk-container-id-23 div.sk-parallel-item:only-child::after {width: 0;}#sk-container-id-23 div.sk-dashed-wrapped {border: 1px dashed gray;margin: 0 0.4em 0.5em 0.4em;box-sizing: border-box;padding-bottom: 0.4em;background-color: white;}#sk-container-id-23 div.sk-label label {font-family: monospace;font-weight: bold;display: inline-block;line-height: 1.2em;}#sk-container-id-23 div.sk-label-container {text-align: center;}#sk-container-id-23 div.sk-container {/* jupyter's `normalize.less` sets `[hidden] { display: none; }` but bootstrap.min.css set `[hidden] { display: none !important; }` so we also need the `!important` here to be able to override the default hidden behavior on the sphinx rendered scikit-learn.org. See: https://github.com/scikit-learn/scikit-learn/issues/21755 */display: inline-block !important;position: relative;}#sk-container-id-23 div.sk-text-repr-fallback {display: none;}</style><div id=\"sk-container-id-23\" class=\"sk-top-container\"><div class=\"sk-text-repr-fallback\"><pre>DecisionTreeClassifier()</pre><b>In a Jupyter environment, please rerun this cell to show the HTML representation or trust the notebook. <br />On GitHub, the HTML representation is unable to render, please try loading this page with nbviewer.org.</b></div><div class=\"sk-container\" hidden><div class=\"sk-item\"><div class=\"sk-estimator sk-toggleable\"><input class=\"sk-toggleable__control sk-hidden--visually\" id=\"sk-estimator-id-23\" type=\"checkbox\" checked><label for=\"sk-estimator-id-23\" class=\"sk-toggleable__label sk-toggleable__label-arrow\">DecisionTreeClassifier</label><div class=\"sk-toggleable__content\"><pre>DecisionTreeClassifier()</pre></div></div></div></div></div>"
      ],
      "text/plain": [
       "DecisionTreeClassifier()"
      ]
     },
     "execution_count": 976,
     "metadata": {},
     "output_type": "execute_result"
    }
   ],
   "source": [
    "from sklearn.tree import DecisionTreeClassifier\n",
    "tree_class = DecisionTreeClassifier()\n",
    "tree_class.fit(X_train, y_train)"
   ]
  },
  {
   "cell_type": "code",
   "execution_count": 977,
   "metadata": {},
   "outputs": [
    {
     "name": "stdout",
     "output_type": "stream",
     "text": [
      "Score with DecisionTreeClassifier:  0.998228894324028\n",
      "Classification Report:\n",
      "               precision    recall  f1-score   support\n",
      "\n",
      "           0       0.04      0.04      0.04       322\n",
      "           1       0.08      0.09      0.08       296\n",
      "           2       0.07      0.06      0.06       353\n",
      "           3       0.08      0.08      0.08       288\n",
      "           4       0.11      0.10      0.10       387\n",
      "           5       0.08      0.09      0.09       349\n",
      "           6       0.08      0.09      0.08       329\n",
      "           7       0.08      0.10      0.09       304\n",
      "           8       0.06      0.05      0.05       336\n",
      "           9       0.07      0.07      0.07       327\n",
      "          10       0.08      0.08      0.08       316\n",
      "          11       0.11      0.12      0.12       346\n",
      "\n",
      "    accuracy                           0.08      3953\n",
      "   macro avg       0.08      0.08      0.08      3953\n",
      "weighted avg       0.08      0.08      0.08      3953\n",
      "\n",
      "Confusion Matrix:\n",
      " [[12 34 40 24 22 24 33 32 18 31 24 28]\n",
      " [26 26 27 17 29 29 28 32 17 23 16 26]\n",
      " [26 31 22 26 37 41 28 17 33 24 33 35]\n",
      " [26 23 22 23 26 33 26 24 20 22 19 24]\n",
      " [33 32 32 32 37 22 29 43 27 36 39 25]\n",
      " [33 30 30 21 31 31 33 34 19 26 30 31]\n",
      " [26 28 22 21 27 29 28 27 31 24 38 28]\n",
      " [21 19 21 20 24 30 32 29 26 32 22 28]\n",
      " [19 35 31 25 26 36 26 28 16 31 25 38]\n",
      " [26 30 33 25 22 32 35 21 22 24 26 31]\n",
      " [24 24 22 25 32 30 21 34 19 29 25 31]\n",
      " [16 22 30 32 34 34 36 26 20 24 31 41]]\n"
     ]
    }
   ],
   "source": [
    "from sklearn.metrics import classification_report\n",
    "\n",
    "\n",
    "print(\"Score with DecisionTreeClassifier: \", tree_class.score(X_train, y_train))\n",
    "y_pred= tree_class.predict(X_test)\n",
    "classification_report_str = classification_report(y_test, y_pred)\n",
    "\n",
    "# Mostrar el reporte de clasificación\n",
    "print(\"Classification Report:\\n\", classification_report_str)\n",
    "\n",
    "# Crear y mostrar la matriz de confusión\n",
    "cm = confusion_matrix(y_test, y_pred)\n",
    "print(\"Confusion Matrix:\\n\", cm)"
   ]
  },
  {
   "cell_type": "code",
   "execution_count": 978,
   "metadata": {},
   "outputs": [
    {
     "data": {
      "image/png": "[encoded data removed]",
      "text/plain": [
       "<Figure size 600x500 with 1 Axes>"
      ]
     },
     "metadata": {},
     "output_type": "display_data"
    }
   ],
   "source": [
    "# Configurar la figura del mapa de calor\n",
    "plt.figure(figsize=(6, 5))\n",
    "\n",
    "# Crear el mapa de calor\n",
    "sns.heatmap(cm, annot=True, fmt='d', cmap='Blues', cbar=False, xticklabels=le.classes_, yticklabels=le.classes_)\n",
    "\n",
    "# Añadir etiquetas y título\n",
    "plt.xlabel('Predicted Labels')\n",
    "plt.ylabel('True Labels')\n",
    "plt.title('Confusion Matrix')\n",
    "\n",
    "# Mostrar el mapa de calor\n",
    "plt.show()\n"
   ]
  },
  {
   "cell_type": "code",
   "execution_count": 980,
   "metadata": {},
   "outputs": [
    {
     "name": "stdout",
     "output_type": "stream",
     "text": [
      "                             Feature  Importance\n",
      "0                                age    0.120950\n",
      "1                       speaks_count    0.037564\n",
      "18              diet_mostly anything    0.025041\n",
      "5                  body_type_average    0.022949\n",
      "3167            religion_clean_other    0.021416\n",
      "50                         job_other    0.020145\n",
      "4                 body_type_athletic    0.019829\n",
      "73    pets_likes dogs and likes cats    0.019359\n",
      "37                             sex_m    0.017324\n",
      "3162      religion_clean_catholicism    0.017105\n"
     ]
    }
   ],
   "source": [
    "# Obtener la importancia de las características del árbol de decisión\n",
    "X_train_df = pd.DataFrame(X_train, columns=X_encoded.columns)\n",
    "\n",
    "\n",
    "# Entrenar el modelo (suponiendo que estás usando un modelo de árbol de decisión)\n",
    "from sklearn.tree import DecisionTreeClassifier\n",
    "tree_class = DecisionTreeClassifier()\n",
    "tree_class.fit(X_train_df, y_train)\n",
    "\n",
    "# Obtener las importancias de las características\n",
    "importances = tree_class.feature_importances_\n",
    "\n",
    "# Crear un DataFrame con las características y sus importancias\n",
    "feature_importances = pd.DataFrame({'Feature': X_train_df.columns, 'Importance': importances})\n",
    "feature_importances = feature_importances.sort_values(by='Importance', ascending=False)\n",
    "\n",
    "# Mostrar las 10 características más importantes\n",
    "print(feature_importances.head(10))\n"
   ]
  },
  {
   "cell_type": "code",
   "execution_count": 981,
   "metadata": {},
   "outputs": [
    {
     "name": "stdout",
     "output_type": "stream",
     "text": [
      "Accuracy with selected features: 0.0819630660258032\n"
     ]
    }
   ],
   "source": [
    "# Asegurarse de que X_train y X_test sean DataFrames\n",
    "X_train_df = pd.DataFrame(X_train, columns=X_encoded.columns)\n",
    "X_test_df = pd.DataFrame(X_test, columns=X_encoded.columns)\n",
    "\n",
    "# Seleccionar las características más importantes\n",
    "important_features = feature_importances[feature_importances['Importance'] > 0.03]['Feature']\n",
    "X_train_selected = X_train_df[important_features]\n",
    "X_test_selected = X_test_df[important_features]\n",
    "\n",
    "# Entrenar un nuevo modelo con las características seleccionadas\n",
    "tree_class_selected = DecisionTreeClassifier(random_state=42)\n",
    "tree_class_selected.fit(X_train_selected, y_train)\n",
    "y_pred_selected = tree_class_selected.predict(X_test_selected)\n",
    "\n",
    "# Evaluar el modelo con las características seleccionadas\n",
    "print(\"Accuracy with selected features:\", accuracy_score(y_test, y_pred_selected))\n"
   ]
  },
  {
   "cell_type": "markdown",
   "metadata": {},
   "source": [
    "# Normalize data for NLP"
   ]
  },
  {
   "cell_type": "code",
   "execution_count": 982,
   "metadata": {},
   "outputs": [],
   "source": [
    "df['essay0'] = df['essay0'].replace({'<br />': '\\n', '\\\\n': '\\n'}, regex=True)\n",
    "df['essay0'] = df['essay0'].str.replace('\\n',' ')\n",
    "df['essay1'] = df['essay1'].replace({'<br />': '\\n', '\\\\n': '\\n'}, regex=True)\n",
    "df['essay1'] = df['essay1'].str.replace('\\n',' ')\n",
    "df['essay2'] = df['essay2'].replace({'<br />': '\\n', '\\\\n': '\\n'}, regex=True)\n",
    "df['essay2'] = df['essay2'].str.replace('\\n',' ')\n",
    "df['essay3'] = df['essay3'].replace({'<br />': '\\n', '\\\\n': '\\n'}, regex=True)\n",
    "df['essay3'] = df['essay3'].str.replace('\\n',' ')\n",
    "df['essay4'] = df['essay4'].replace({'<br />': '\\n', '\\\\n': '\\n'}, regex=True)\n",
    "df['essay4'] = df['essay4'].str.replace('\\n',' ')\n",
    "df['essay5'] = df['essay5'].replace({'<br />': '\\n', '\\\\n': '\\n'}, regex=True)\n",
    "df['essay5'] = df['essay5'].str.replace('\\n',' ')\n",
    "df['essay6'] = df['essay6'].replace({'<br />': '\\n', '\\\\n': '\\n'}, regex=True)\n",
    "df['essay6'] = df['essay6'].str.replace('\\n',' ')\n",
    "df['essay7'] = df['essay7'].replace({'<br />': '\\n', '\\\\n': '\\n'}, regex=True)\n",
    "df['essay7'] = df['essay7'].str.replace('\\n',' ')\n",
    "df['essay8'] = df['essay8'].replace({'<br />': '\\n', '\\\\n': '\\n'}, regex=True)\n",
    "df['essay8'] = df['essay8'].str.replace('\\n',' ')\n"
   ]
  },
  {
   "cell_type": "code",
   "execution_count": 983,
   "metadata": {},
   "outputs": [
    {
     "name": "stdout",
     "output_type": "stream",
     "text": [
      "i'm not ashamed of much, but writing public text on an online dating site makes me pleasantly uncomfortable. i'll try to be as earnest as possible in the noble endeavor of standing naked before the world.    i've lived in san francisco for 15 years, and both love it and find myself frustrated with its deficits. lots of great friends and acquaintances (which increases my apprehension to put anything on this site), but i'm feeling like meeting some new people that aren't just friends of friends. it's okay if you are a friend of a friend too. chances are, if you make it through the complex filtering process of multiple choice questions, lifestyle statistics, photo scanning, and these indulgent blurbs of text without moving quickly on to another search result, you are probably already a cultural peer and at most 2 people removed. at first, i thought i should say as little as possible here to avoid you, but that seems silly.    as far as culture goes, i'm definitely more on the weird side of the spectrum, but i don't exactly wear it on my sleeve. once you get me talking, it will probably become increasingly apparent that while i'd like to think of myself as just like everybody else (and by some definition i certainly am), most people don't see me that way. that's fine with me. most of the people i find myself gravitating towards are pretty weird themselves. you probably are too. \n",
      "\n",
      "i make nerdy software for musicians, artists, and experimenters to indulge in their own weirdness, but i like to spend time away from the computer when working on my artwork (which is typically more concerned with group dynamics and communication, than with visual form, objects, or technology). i also record and deejay dance, noise, pop, and experimental music (most of which electronic or at least studio based). besides these relatively ego driven activities, i've been enjoying things like meditation and tai chi to try and gently flirt with ego death. \n",
      "\n",
      "improvising in different contexts. alternating between being present and decidedly outside of a moment, or trying to hold both at once. rambling intellectual conversations that hold said conversations in contempt while seeking to find something that transcends them. being critical while remaining generous. listening to and using body language--often performed in caricature or large gestures, if not outright interpretive dance. dry, dark, and raunchy humor. \n",
      "\n",
      "my large jaw and large glasses are the physical things people comment on the most. when sufficiently stimulated, i have an unmistakable cackle of a laugh. after that, it goes in more directions than i care to describe right now. maybe i'll come back to this. \n",
      "\n",
      "okay this is where the cultural matrix gets so specific, it's like being in the crosshairs.    for what it's worth, i find myself reading more non-fiction than fiction. it's usually some kind of philosophy, art, or science text by silly authors such as ranciere, de certeau, bataille, baudrillard, butler, stein, arendt, nietzche, zizek, etc. i'll often throw in some weird new age or pop-psychology book in the mix as well. as for fiction, i enjoy what little i've read of eco, perec, wallace, bolao, dick, vonnegut, atwood, delilo, etc. when i was young, i was a rabid asimov reader.    directors i find myself drawn to are makavejev, kuchar, jodorowsky, herzog, hara, klein, waters, verhoeven, ackerman, hitchcock, lang, gorin, goddard, miike, ohbayashi, tarkovsky, sokurov, warhol, etc. but i also like a good amount of \"trashy\" stuff. too much to name.    i definitely enjoy the character development that happens in long form episodic television over the course of 10-100 episodes, which a 1-2hr movie usually can't compete with. some of my recent tv favorites are: breaking bad, the wire, dexter, true blood, the prisoner, lost, fringe.    a smattered sampling of the vast field of music i like and deejay: art ensemble, sun ra, evan parker, lil wayne, dj funk, mr. fingers, maurizio, rob hood, dan bell, james blake, nonesuch recordings, omar souleyman, ethiopiques, fela kuti, john cage, meredith monk, robert ashley, terry riley, yoko ono, merzbow, tom tom club, jit, juke, bounce, hyphy, snap, crunk, b'more, kuduro, pop, noise, jazz, techno, house, acid, new/no wave, (post)punk, etc.    a few of the famous art/dance/theater folk that might locate my sensibility: andy warhol, bruce nauman, yayoi kusama, louise bourgeois, tino sehgal, george kuchar, michel duchamp, marina abramovic, gelatin, carolee schneeman, gustav metzger, mike kelly, mike smith, andrea fraser, gordon matta-clark, jerzy grotowski, samuel beckett, antonin artaud, tadeusz kantor, anna halperin, merce cunningham, etc. i'm clearly leaving out a younger generation of contemporary artists, many of whom are friends.    local food regulars: sushi zone, chow, ppq, pagolac, lers ros, burma superstar, minako, shalimar, delfina pizza, rosamunde, arinells, suppenkuche, cha-ya, blue plate, golden era, etc. \n",
      "\n"
     ]
    }
   ],
   "source": [
    "print(df.essay0[2], '\\n')\n",
    "print(df.essay1[2], '\\n')\n",
    "print(df.essay2[2], '\\n')\n",
    "print(df.essay3[2], '\\n')\n",
    "print(df.essay4[2], '\\n')\n"
   ]
  },
  {
   "cell_type": "code",
   "execution_count": 984,
   "metadata": {},
   "outputs": [],
   "source": [
    "import re\n",
    "import nltk\n",
    "from nltk.corpus import stopwords\n",
    "from nltk.stem import WordNetLemmatizer\n"
   ]
  },
  {
   "cell_type": "code",
   "execution_count": 985,
   "metadata": {},
   "outputs": [
    {
     "data": {
      "text/plain": [
       "(27112, 32)"
      ]
     },
     "execution_count": 985,
     "metadata": {},
     "output_type": "execute_result"
    }
   ],
   "source": [
    "data_clean = df.dropna(subset = ['essay0', 'essay1','essay2','essay3','essay4','essay5','essay6','essay7','essay8','sign']).copy()\n",
    "data_clean['sign_clean'] = data_clean.sign.apply(lambda x:x.split()[0])\n",
    "data_clean.shape\n"
   ]
  },
  {
   "cell_type": "code",
   "execution_count": 986,
   "metadata": {},
   "outputs": [
    {
     "name": "stderr",
     "output_type": "stream",
     "text": [
      "[nltk_data] Downloading package stopwords to\n",
      "[nltk_data]     /Users/jsalgado/nltk_data...\n",
      "[nltk_data]   Package stopwords is already up-to-date!\n",
      "[nltk_data] Downloading package wordnet to\n",
      "[nltk_data]     /Users/jsalgado/nltk_data...\n",
      "[nltk_data]   Package wordnet is already up-to-date!\n"
     ]
    }
   ],
   "source": [
    "nltk.download('stopwords')\n",
    "nltk.download('wordnet')\n",
    "\n",
    "def clean_text(text):\n",
    "    # Convertir a minúsculas\n",
    "    text = text.lower()\n",
    "    # Eliminar puntuación y caracteres especiales\n",
    "    text = re.sub(r'[^\\w\\s]', '', text)\n",
    "    # Eliminar stopwords\n",
    "    stop_words = set(stopwords.words('english'))\n",
    "    text = ' '.join([word for word in text.split() if word not in stop_words])\n",
    "    # Lematización\n",
    "    lemmatizer = WordNetLemmatizer()\n",
    "    text = ' '.join([lemmatizer.lemmatize(word) for word in text.split()])\n",
    "    return text\n",
    "\n",
    "data_clean['clean_essay0'] = data_clean['essay0'].apply(clean_text)\n",
    "data_clean['clean_essay1'] = data_clean['essay1'].apply(clean_text)\n",
    "data_clean['clean_essay2'] = data_clean['essay2'].apply(clean_text)\n",
    "data_clean['clean_essay3'] = data_clean['essay3'].apply(clean_text)\n",
    "data_clean['clean_essay4'] = data_clean['essay4'].apply(clean_text)\n",
    "data_clean['clean_essay5'] = data_clean['essay5'].apply(clean_text)\n",
    "data_clean['clean_essay6'] = data_clean['essay6'].apply(clean_text)\n",
    "data_clean['clean_essay7'] = data_clean['essay7'].apply(clean_text)\n",
    "data_clean['clean_essay8'] = data_clean['essay7'].apply(clean_text)"
   ]
  },
  {
   "cell_type": "code",
   "execution_count": 987,
   "metadata": {},
   "outputs": [],
   "source": [
    "data_clean['combined_essays'] = data_clean['essay0'] + ' ' + data_clean['essay1']+ ' ' + data_clean['essay2']\n",
    "\n",
    "data_clean['combined_essays_clean'] = data_clean['combined_essays'].apply(clean_text)"
   ]
  },
  {
   "cell_type": "code",
   "execution_count": 988,
   "metadata": {},
   "outputs": [],
   "source": [
    "from sklearn.feature_extraction.text import CountVectorizer\n",
    "vectorizer = CountVectorizer(max_features=1000)  # Ajusta max_features según lo necesites\n",
    "\n",
    "# Aplicar el vectorizador al texto limpio de essay0\n",
    "X = vectorizer.fit_transform(data_clean['combined_essays_clean'])\n",
    "\n",
    "# Convertir a DataFrame para verlo mejor\n",
    "X_data = pd.DataFrame(X.toarray(), columns=vectorizer.get_feature_names_out())\n",
    "\n",
    "# Mostrar una muestra de las primeras filas del DataFrame\n"
   ]
  },
  {
   "cell_type": "code",
   "execution_count": 989,
   "metadata": {},
   "outputs": [],
   "source": [
    "y = data_clean['sign_clean']\n",
    "\n",
    "X_train, X_test, y_train, y_test = train_test_split(X_data, y, test_size=0.3, random_state=22)\n"
   ]
  },
  {
   "cell_type": "code",
   "execution_count": 990,
   "metadata": {},
   "outputs": [],
   "source": [
    "model = RandomForestClassifier(random_state=12)\n",
    "model.fit(X_train, y_train)\n",
    "\n",
    "# Realizar predicciones\n",
    "y_pred = model.predict(X_test)"
   ]
  },
  {
   "cell_type": "code",
   "execution_count": 991,
   "metadata": {},
   "outputs": [
    {
     "name": "stdout",
     "output_type": "stream",
     "text": [
      "Accuracy: 0.0888861568723875\n"
     ]
    }
   ],
   "source": [
    "print(\"Accuracy:\", accuracy_score(y_test, y_pred))\n",
    "cm = confusion_matrix(y_test, y_pred)\n"
   ]
  },
  {
   "cell_type": "code",
   "execution_count": 992,
   "metadata": {},
   "outputs": [
    {
     "data": {
      "image/png": "[encoded data removed]",
      "text/plain": [
       "<Figure size 640x480 with 2 Axes>"
      ]
     },
     "metadata": {},
     "output_type": "display_data"
    }
   ],
   "source": [
    "#plt.figure(figsize=(10, 8))\n",
    "\n",
    "# Crear el mapa de calor\n",
    "sns.heatmap(cm, annot=True, fmt='d', cmap='Blues', xticklabels=model.classes_, yticklabels=model.classes_)\n",
    "\n",
    "# Añadir etiquetas y título\n",
    "plt.xlabel('Predicted Labels')\n",
    "plt.ylabel('True Labels')\n",
    "plt.title('Confusion Matrix Heatmap - Random Forest')\n",
    "plt.show()\n"
   ]
  }
 ],
 "metadata": {
  "kernelspec": {
   "display_name": "Python 3 (ipykernel)",
   "language": "python",
   "name": "python3"
  },
  "language_info": {
   "codemirror_mode": {
    "name": "ipython",
    "version": 3
   },
   "file_extension": ".py",
   "mimetype": "text/x-python",
   "name": "python",
   "nbconvert_exporter": "python",
   "pygments_lexer": "ipython3",
   "version": "3.11.5"
  }
 },
 "nbformat": 4,
 "nbformat_minor": 4
}
